{
  "nbformat": 4,
  "nbformat_minor": 0,
  "metadata": {
    "colab": {
      "provenance": [],
      "authorship_tag": "ABX9TyNw4arU+T3H3dZSDewrUGCW"
    },
    "kernelspec": {
      "name": "python3",
      "display_name": "Python 3"
    },
    "language_info": {
      "name": "python"
    }
  },
  "cells": [
    {
      "cell_type": "markdown",
      "source": [
        "Para esta tarea selecioné información sobre las estadísticas sobre los jugadores de la NFL (National Football League) de los pases hechos durante las temporadas que jugaron hasta el 2020.\n",
        "\n",
        "Esta información la elegí ya que me considero un fan de la NFL y es una información que conozco en cuanto al significado de las variables y datos que se presentan. Y me interesa ya que últimamente el equipo al que sigo no le ha ido muy bien con su quarterback, entonces me gustaría conocer si através de esta información se puede \"predecir\" o proyectar como será la carrera de un quarterback viendo la información de su primer año de jugador profesional, o si influye de alguna manera la universidad de donde vienen o si conforme tienen más experiencia profesional va mejorando su nivel."
      ],
      "metadata": {
        "id": "VoI1WwpVQrxr"
      }
    }
  ]
}